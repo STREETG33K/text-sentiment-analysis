{
 "cells": [
  {
   "cell_type": "code",
   "execution_count": 1,
   "id": "initial_id",
   "metadata": {
    "collapsed": true,
    "ExecuteTime": {
     "end_time": "2023-12-03T20:35:30.417777Z",
     "start_time": "2023-12-03T20:35:20.260149Z"
    }
   },
   "outputs": [],
   "source": [
    "from nltk.tokenize import word_tokenize\n",
    "from nltk.stem.snowball import EnglishStemmer\n",
    "\n",
    "from flair.models import TextClassifier\n",
    "from flair.data import Sentence\n",
    "\n",
    "from newsapi import NewsApiClient\n",
    "from datetime import datetime, timedelta, timezone"
   ]
  },
  {
   "cell_type": "code",
   "execution_count": 16,
   "outputs": [],
   "source": [
    "stemmer = EnglishStemmer()\n",
    "api = NewsApiClient(api_key='54ad7b25e4444b559b023ecf81ed0ed2')\n",
    "sia = TextClassifier.load('en-sentiment')\n",
    "\n",
    "raw_data = api.get_everything(q='xrp')\n",
    "raw_news_json = raw_data['articles']\n",
    "\n",
    "def smart_tokenize_and_preprocess(text):\n",
    "    words = word_tokenize(text)\n",
    "    result = [stemmer.stem(token.lower()) for token in words]\n",
    "    return result\n",
    "\n",
    "def flair_prediction(x):\n",
    "    # x = smart_tokenize_and_preprocess(x)\n",
    "    sentence = Sentence(x)\n",
    "    sia.predict(sentence)\n",
    "    score = sentence.labels[0]\n",
    "    if \"POSITIVE\" in str(score):\n",
    "        return \"POSITIVE\"\n",
    "    elif \"NEGATIVE\" in str(score):\n",
    "        return \"NEGATIVE\"\n",
    "    else:\n",
    "        return \"NEUTRAL\"\n"
   ],
   "metadata": {
    "collapsed": false,
    "ExecuteTime": {
     "end_time": "2023-12-03T20:53:22.127698Z",
     "start_time": "2023-12-03T20:53:17.598216Z"
    }
   },
   "id": "39e04a15520e5874"
  },
  {
   "cell_type": "code",
   "execution_count": 19,
   "outputs": [
    {
     "name": "stdout",
     "output_type": "stream",
     "text": [
      "Saturday, 02 December 2023 at 11:12 AM\n",
      "NEGATIVE\n",
      "Saturday, 02 December 2023 at 12:45 PM\n",
      "POSITIVE\n",
      "Saturday, 02 December 2023 at 05:54 PM\n",
      "POSITIVE\n",
      "RESULTS\n",
      "Positive Results: 2\n",
      "Negative Results: 1\n",
      "Neutral Results: 0\n"
     ]
    }
   ],
   "source": [
    "current_datetime = datetime.now(timezone.utc)\n",
    "pos = 0\n",
    "neg = 0\n",
    "neu = 0\n",
    "\n",
    "for i in range(len(raw_news_json)):\n",
    "    datetime_object = datetime.fromisoformat(raw_news_json[i]['publishedAt'].replace('Z', '+00:00'))\n",
    "    \n",
    "    if datetime_object > current_datetime - timedelta(days=2):\n",
    "        description = raw_news_json[i]['description']\n",
    "        content = raw_news_json[i]['content']\n",
    "        \n",
    "        if description is not None and content is not None:\n",
    "            verdict = flair_prediction(description + content)\n",
    "            if verdict == \"POSITIVE\": pos += 1\n",
    "            elif verdict == \"NEGATIVE\": neg += 1\n",
    "            else: neu += 1\n",
    "\n",
    "            print(datetime_object.strftime(\"%A, %d %B %Y at %I:%M %p\"))\n",
    "            print(verdict)\n",
    "            \n",
    "print(\"RESULTS\")\n",
    "print(f\"Positive Results: {pos}\")\n",
    "print(f\"Negative Results: {neg}\")\n",
    "print(f\"Neutral Results: {neu}\")\n"
   ],
   "metadata": {
    "collapsed": false,
    "ExecuteTime": {
     "end_time": "2023-12-03T20:57:45.373905Z",
     "start_time": "2023-12-03T20:57:45.088302Z"
    }
   },
   "id": "b90355de094bd612"
  },
  {
   "cell_type": "code",
   "execution_count": null,
   "outputs": [],
   "source": [],
   "metadata": {
    "collapsed": false
   },
   "id": "2e07ab8e1e777212"
  }
 ],
 "metadata": {
  "kernelspec": {
   "display_name": "Python 3",
   "language": "python",
   "name": "python3"
  },
  "language_info": {
   "codemirror_mode": {
    "name": "ipython",
    "version": 2
   },
   "file_extension": ".py",
   "mimetype": "text/x-python",
   "name": "python",
   "nbconvert_exporter": "python",
   "pygments_lexer": "ipython2",
   "version": "2.7.6"
  }
 },
 "nbformat": 4,
 "nbformat_minor": 5
}
