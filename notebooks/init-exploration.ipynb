{
 "cells": [
  {
   "cell_type": "code",
   "execution_count": 6,
   "id": "initial_id",
   "metadata": {
    "collapsed": true,
    "ExecuteTime": {
     "end_time": "2023-12-03T19:40:08.026916Z",
     "start_time": "2023-12-03T19:39:45.777600Z"
    }
   },
   "outputs": [],
   "source": [
    "from nltk.tokenize import word_tokenize\n",
    "from nltk.stem.snowball import EnglishStemmer\n",
    "import nltk\n",
    "\n",
    "from flair.models import TextClassifier\n",
    "from flair.data import Sentence"
   ]
  },
  {
   "cell_type": "code",
   "execution_count": 7,
   "outputs": [],
   "source": [
    "stemmer = EnglishStemmer()\n",
    "\n",
    "def smart_tokenize_and_preprocess(text):\n",
    "    words = word_tokenize(text)\n",
    "    result = [stemmer.stem(token.lower()) for token in words]\n",
    "    return result"
   ],
   "metadata": {
    "collapsed": false,
    "ExecuteTime": {
     "end_time": "2023-12-03T19:40:09.850522Z",
     "start_time": "2023-12-03T19:40:09.843482Z"
    }
   },
   "id": "b318f7f09e472ef2"
  },
  {
   "cell_type": "code",
   "execution_count": 8,
   "outputs": [
    {
     "data": {
      "text/plain": "['hello', 'my', 'peopl']"
     },
     "execution_count": 8,
     "metadata": {},
     "output_type": "execute_result"
    }
   ],
   "source": [
    "smart_tokenize_and_preprocess(\"hello my people\")"
   ],
   "metadata": {
    "collapsed": false,
    "ExecuteTime": {
     "end_time": "2023-12-03T19:40:10.226230Z",
     "start_time": "2023-12-03T19:40:10.204213Z"
    }
   },
   "id": "f457c13017f483e8"
  },
  {
   "cell_type": "code",
   "execution_count": 9,
   "outputs": [
    {
     "name": "stdout",
     "output_type": "stream",
     "text": [
      "2023-12-03 20:41:19,689 https://nlp.informatik.hu-berlin.de/resources/models/sentiment-curated-distilbert/sentiment-en-mix-distillbert_4.pt not found in cache, downloading to /var/folders/8v/4jw7rdk574z5fhjqc1kv4th80000gn/T/tmptsne8pv5\n"
     ]
    },
    {
     "name": "stderr",
     "output_type": "stream",
     "text": [
      "100%|██████████| 253M/253M [03:36<00:00, 1.23MB/s] "
     ]
    },
    {
     "name": "stdout",
     "output_type": "stream",
     "text": [
      "2023-12-03 20:44:55,870 copying /var/folders/8v/4jw7rdk574z5fhjqc1kv4th80000gn/T/tmptsne8pv5 to cache at /Users/nicolasasmann/.flair/models/sentiment-en-mix-distillbert_4.pt\n"
     ]
    },
    {
     "name": "stderr",
     "output_type": "stream",
     "text": [
      "\n"
     ]
    },
    {
     "name": "stdout",
     "output_type": "stream",
     "text": [
      "2023-12-03 20:44:56,496 removing temp file /var/folders/8v/4jw7rdk574z5fhjqc1kv4th80000gn/T/tmptsne8pv5\n"
     ]
    },
    {
     "data": {
      "text/plain": "tokenizer_config.json:   0%|          | 0.00/28.0 [00:00<?, ?B/s]",
      "application/vnd.jupyter.widget-view+json": {
       "version_major": 2,
       "version_minor": 0,
       "model_id": "efd68440a3ca4e4a94498b47c8f37041"
      }
     },
     "metadata": {},
     "output_type": "display_data"
    },
    {
     "data": {
      "text/plain": "config.json:   0%|          | 0.00/483 [00:00<?, ?B/s]",
      "application/vnd.jupyter.widget-view+json": {
       "version_major": 2,
       "version_minor": 0,
       "model_id": "720302a78ae444d48403c3297a4b2f7f"
      }
     },
     "metadata": {},
     "output_type": "display_data"
    },
    {
     "data": {
      "text/plain": "vocab.txt:   0%|          | 0.00/232k [00:00<?, ?B/s]",
      "application/vnd.jupyter.widget-view+json": {
       "version_major": 2,
       "version_minor": 0,
       "model_id": "6d5135455bf44093b5a34ee3d83a3b43"
      }
     },
     "metadata": {},
     "output_type": "display_data"
    },
    {
     "data": {
      "text/plain": "tokenizer.json:   0%|          | 0.00/466k [00:00<?, ?B/s]",
      "application/vnd.jupyter.widget-view+json": {
       "version_major": 2,
       "version_minor": 0,
       "model_id": "6952d40971684cd79b45c113a8751197"
      }
     },
     "metadata": {},
     "output_type": "display_data"
    }
   ],
   "source": [
    "sia = TextClassifier.load('en-sentiment')"
   ],
   "metadata": {
    "collapsed": false,
    "ExecuteTime": {
     "end_time": "2023-12-03T19:45:01.918407Z",
     "start_time": "2023-12-03T19:41:19.490688Z"
    }
   },
   "id": "6f7bae8689991bb0"
  },
  {
   "cell_type": "code",
   "execution_count": 10,
   "outputs": [],
   "source": [
    "def flair_prediction(x):\n",
    "    sentence = Sentence(x)\n",
    "    sia.predict(sentence)\n",
    "    score = sentence.labels[0]\n",
    "    if \"POSITIVE\" in str(score):\n",
    "        return \"pos\"\n",
    "    elif \"NEGATIVE\" in str(score):\n",
    "        return \"neg\"\n",
    "    else:\n",
    "        return \"neu\""
   ],
   "metadata": {
    "collapsed": false,
    "ExecuteTime": {
     "end_time": "2023-12-03T19:54:08.249567Z",
     "start_time": "2023-12-03T19:54:08.235300Z"
    }
   },
   "id": "2e2ce036020ccf4a"
  },
  {
   "cell_type": "code",
   "execution_count": 34,
   "outputs": [
    {
     "name": "stdout",
     "output_type": "stream",
     "text": [
      "['elon', 'musk', 'tri', 'to', 'sell', 'tesla', 'to', 'appl', '—', 'but', 'ceo', 'tim', 'cook', 'refus', 'to', 'even', 'meet', 'with', 'him', ':', 'you', 'know', ',', 'i', 've', 'never', 'spoken', 'to', 'elon', '.', 'i', 'do', \"n't\", 'rememb', 'it', 'be', 'like', 'that', '.', 'but', 'he', 'said', 'that', 'he', 'did', ',', 'and', 'so', 'i', 'assum', 'that', \"'s\", 'correct', '.', \"'\"]\n"
     ]
    },
    {
     "data": {
      "text/plain": "'neg'"
     },
     "execution_count": 34,
     "metadata": {},
     "output_type": "execute_result"
    }
   ],
   "source": [
    "string = smart_tokenize_and_preprocess(\"Elon Musk Tried To Sell Tesla To Apple — But CEO Tim Cook Refused To Even Meet With Him: 'You Know, I've Never Spoken To Elon. I Don't Remember It Being Like That. But He Said That He Did, And So I Assume That's Correct.'\")\n",
    "print(string)\n",
    "flair_prediction(string)"
   ],
   "metadata": {
    "collapsed": false,
    "ExecuteTime": {
     "end_time": "2023-12-03T19:59:29.017908Z",
     "start_time": "2023-12-03T19:59:28.945613Z"
    }
   },
   "id": "738f85a02bfa40ff"
  },
  {
   "cell_type": "code",
   "execution_count": null,
   "outputs": [],
   "source": [],
   "metadata": {
    "collapsed": false
   },
   "id": "a26bd7463fa6b985"
  }
 ],
 "metadata": {
  "kernelspec": {
   "display_name": "Python 3",
   "language": "python",
   "name": "python3"
  },
  "language_info": {
   "codemirror_mode": {
    "name": "ipython",
    "version": 2
   },
   "file_extension": ".py",
   "mimetype": "text/x-python",
   "name": "python",
   "nbconvert_exporter": "python",
   "pygments_lexer": "ipython2",
   "version": "2.7.6"
  }
 },
 "nbformat": 4,
 "nbformat_minor": 5
}
